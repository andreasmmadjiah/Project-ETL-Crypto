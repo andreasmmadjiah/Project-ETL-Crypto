{
 "cells": [
  {
   "cell_type": "code",
   "execution_count": 72,
   "metadata": {
    "ExecuteTime": {
     "end_time": "2021-08-01T16:47:20.943045Z",
     "start_time": "2021-08-01T16:47:19.413820Z"
    }
   },
   "outputs": [
    {
     "name": "stdout",
     "output_type": "stream",
     "text": [
      "{'Meta Data': {'1. Information': 'Intraday (60min) open, high, low, close prices and volume', '2. Symbol': 'IBM', '3. Last Refreshed': '2021-07-30 20:00:00', '4. Interval': '60min', '5. Output Size': 'Compact', '6. Time Zone': 'US/Eastern'}, 'Time Series (60min)': {'2021-07-30 20:00:00': {'1. open': '140.9800', '2. high': '140.9800', '3. low': '140.9800', '4. close': '140.9800', '5. volume': '527'}, '2021-07-30 18:00:00': {'1. open': '141.1900', '2. high': '141.1900', '3. low': '141.1900', '4. close': '141.1900', '5. volume': '300'}, '2021-07-30 17:00:00': {'1. open': '140.9600', '2. high': '141.0000', '3. low': '140.9600', '4. close': '141.0000', '5. volume': '92357'}, '2021-07-30 16:00:00': {'1. open': '141.0800', '2. high': '141.2600', '3. low': '140.7900', '4. close': '140.9600', '5. volume': '924999'}, '2021-07-30 15:00:00': {'1. open': '141.2200', '2. high': '141.2500', '3. low': '140.9133', '4. close': '141.0700', '5. volume': '247359'}, '2021-07-30 14:00:00': {'1. open': '141.2100', '2. high': '141.3800', '3. low': '141.1200', '4. close': '141.2200', '5. volume': '169828'}, '2021-07-30 13:00:00': {'1. open': '141.1800', '2. high': '141.3200', '3. low': '141.1000', '4. close': '141.2050', '5. volume': '186205'}, '2021-07-30 12:00:00': {'1. open': '141.2600', '2. high': '141.4600', '3. low': '141.0600', '4. close': '141.2179', '5. volume': '234689'}, '2021-07-30 11:00:00': {'1. open': '141.2600', '2. high': '141.7200', '3. low': '141.0300', '4. close': '141.2500', '5. volume': '319572'}, '2021-07-30 10:00:00': {'1. open': '141.4400', '2. high': '141.8500', '3. low': '141.2500', '4. close': '141.2900', '5. volume': '215586'}, '2021-07-30 09:00:00': {'1. open': '141.5000', '2. high': '141.7000', '3. low': '141.5000', '4. close': '141.7000', '5. volume': '390'}, '2021-07-30 08:00:00': {'1. open': '141.7000', '2. high': '141.9200', '3. low': '141.7000', '4. close': '141.9200', '5. volume': '409'}, '2021-07-30 07:00:00': {'1. open': '141.7700', '2. high': '142.0000', '3. low': '141.7700', '4. close': '142.0000', '5. volume': '429'}, '2021-07-29 20:00:00': {'1. open': '141.8900', '2. high': '141.8900', '3. low': '141.7500', '4. close': '141.7500', '5. volume': '1450'}, '2021-07-29 19:00:00': {'1. open': '141.8900', '2. high': '141.8900', '3. low': '141.8900', '4. close': '141.8900', '5. volume': '395'}, '2021-07-29 18:00:00': {'1. open': '141.7000', '2. high': '141.8900', '3. low': '141.6500', '4. close': '141.8900', '5. volume': '1469'}, '2021-07-29 17:00:00': {'1. open': '141.9300', '2. high': '141.9800', '3. low': '141.5100', '4. close': '141.5100', '5. volume': '71986'}, '2021-07-29 16:00:00': {'1. open': '142.0600', '2. high': '142.1300', '3. low': '141.6000', '4. close': '141.9300', '5. volume': '619471'}, '2021-07-29 15:00:00': {'1. open': '142.2400', '2. high': '142.2500', '3. low': '141.8800', '4. close': '142.0600', '5. volume': '231259'}, '2021-07-29 14:00:00': {'1. open': '142.0200', '2. high': '142.3700', '3. low': '141.8200', '4. close': '142.2300', '5. volume': '347299'}, '2021-07-29 13:00:00': {'1. open': '142.1903', '2. high': '142.2900', '3. low': '141.9700', '4. close': '142.0600', '5. volume': '245740'}, '2021-07-29 12:00:00': {'1. open': '142.3000', '2. high': '142.4300', '3. low': '142.0500', '4. close': '142.2000', '5. volume': '297411'}, '2021-07-29 11:00:00': {'1. open': '142.4550', '2. high': '142.4550', '3. low': '141.9700', '4. close': '142.2950', '5. volume': '261264'}, '2021-07-29 10:00:00': {'1. open': '142.2400', '2. high': '142.9600', '3. low': '142.0339', '4. close': '142.4000', '5. volume': '326348'}, '2021-07-29 09:00:00': {'1. open': '142.0000', '2. high': '142.4000', '3. low': '142.0000', '4. close': '142.0500', '5. volume': '594'}, '2021-07-28 19:00:00': {'1. open': '141.9000', '2. high': '141.9000', '3. low': '141.9000', '4. close': '141.9000', '5. volume': '100'}, '2021-07-28 18:00:00': {'1. open': '141.8600', '2. high': '141.8600', '3. low': '141.7700', '4. close': '141.7700', '5. volume': '831'}, '2021-07-28 17:00:00': {'1. open': '141.7700', '2. high': '142.0000', '3. low': '141.7700', '4. close': '142.0000', '5. volume': '77745'}, '2021-07-28 16:00:00': {'1. open': '142.1300', '2. high': '142.2100', '3. low': '141.6400', '4. close': '141.7800', '5. volume': '606865'}, '2021-07-28 15:00:00': {'1. open': '141.8500', '2. high': '142.2000', '3. low': '141.6400', '4. close': '142.1150', '5. volume': '287465'}, '2021-07-28 14:00:00': {'1. open': '142.0700', '2. high': '142.0700', '3. low': '141.8100', '4. close': '141.8400', '5. volume': '168196'}, '2021-07-28 13:00:00': {'1. open': '142.4200', '2. high': '142.4400', '3. low': '141.9200', '4. close': '142.0900', '5. volume': '155932'}, '2021-07-28 12:00:00': {'1. open': '142.2500', '2. high': '142.7400', '3. low': '141.9500', '4. close': '142.4300', '5. volume': '261561'}, '2021-07-28 11:00:00': {'1. open': '142.4400', '2. high': '142.4600', '3. low': '141.8000', '4. close': '142.2700', '5. volume': '411002'}, '2021-07-28 10:00:00': {'1. open': '142.1653', '2. high': '143.1000', '3. low': '142.1653', '4. close': '142.4600', '5. volume': '290791'}, '2021-07-28 09:00:00': {'1. open': '142.7499', '2. high': '142.9500', '3. low': '142.6100', '4. close': '142.9500', '5. volume': '6265'}, '2021-07-28 08:00:00': {'1. open': '142.6900', '2. high': '142.6900', '3. low': '142.6900', '4. close': '142.6900', '5. volume': '500'}, '2021-07-28 07:00:00': {'1. open': '142.7500', '2. high': '142.7500', '3. low': '142.7500', '4. close': '142.7500', '5. volume': '152'}, '2021-07-27 20:00:00': {'1. open': '142.6200', '2. high': '142.6200', '3. low': '142.6200', '4. close': '142.6200', '5. volume': '150'}, '2021-07-27 19:00:00': {'1. open': '142.6900', '2. high': '142.6900', '3. low': '142.6900', '4. close': '142.6900', '5. volume': '111'}, '2021-07-27 18:00:00': {'1. open': '142.5800', '2. high': '142.6000', '3. low': '142.5800', '4. close': '142.6000', '5. volume': '288'}, '2021-07-27 17:00:00': {'1. open': '142.7500', '2. high': '142.9300', '3. low': '142.5100', '4. close': '142.5100', '5. volume': '70227'}, '2021-07-27 16:00:00': {'1. open': '142.5900', '2. high': '142.9700', '3. low': '142.5100', '4. close': '142.7400', '5. volume': '739453'}, '2021-07-27 15:00:00': {'1. open': '142.3550', '2. high': '142.7500', '3. low': '142.3550', '4. close': '142.5900', '5. volume': '233087'}, '2021-07-27 14:00:00': {'1. open': '142.4500', '2. high': '142.7000', '3. low': '142.1600', '4. close': '142.3700', '5. volume': '289857'}, '2021-07-27 13:00:00': {'1. open': '142.7400', '2. high': '142.7400', '3. low': '142.1200', '4. close': '142.4250', '5. volume': '290272'}, '2021-07-27 12:00:00': {'1. open': '143.5100', '2. high': '143.5100', '3. low': '142.6100', '4. close': '142.7250', '5. volume': '359683'}, '2021-07-27 11:00:00': {'1. open': '142.4100', '2. high': '143.6400', '3. low': '142.3400', '4. close': '143.5200', '5. volume': '561528'}, '2021-07-27 10:00:00': {'1. open': '142.8100', '2. high': '142.8100', '3. low': '141.6000', '4. close': '142.4200', '5. volume': '377338'}, '2021-07-27 09:00:00': {'1. open': '142.0509', '2. high': '142.5900', '3. low': '142.0509', '4. close': '142.5900', '5. volume': '1230'}, '2021-07-27 08:00:00': {'1. open': '142.5700', '2. high': '142.5700', '3. low': '142.5700', '4. close': '142.5700', '5. volume': '529'}, '2021-07-27 06:00:00': {'1. open': '142.0300', '2. high': '142.0300', '3. low': '142.0300', '4. close': '142.0300', '5. volume': '852'}, '2021-07-27 05:00:00': {'1. open': '142.0300', '2. high': '142.0300', '3. low': '142.0300', '4. close': '142.0300', '5. volume': '100'}, '2021-07-26 20:00:00': {'1. open': '142.4500', '2. high': '142.5500', '3. low': '142.4500', '4. close': '142.5500', '5. volume': '1010'}, '2021-07-26 19:00:00': {'1. open': '142.7700', '2. high': '142.7700', '3. low': '142.7700', '4. close': '142.7700', '5. volume': '298'}, '2021-07-26 17:00:00': {'1. open': '142.7700', '2. high': '142.7700', '3. low': '142.7500', '4. close': '142.7500', '5. volume': '790656'}, '2021-07-26 16:00:00': {'1. open': '142.7400', '2. high': '142.8000', '3. low': '142.3600', '4. close': '142.7700', '5. volume': '589659'}, '2021-07-26 15:00:00': {'1. open': '142.6800', '2. high': '142.8400', '3. low': '142.5200', '4. close': '142.7400', '5. volume': '229216'}, '2021-07-26 14:00:00': {'1. open': '142.6300', '2. high': '142.7600', '3. low': '142.4300', '4. close': '142.6600', '5. volume': '204939'}, '2021-07-26 13:00:00': {'1. open': '142.8200', '2. high': '142.8300', '3. low': '142.4501', '4. close': '142.6300', '5. volume': '234402'}, '2021-07-26 12:00:00': {'1. open': '142.3900', '2. high': '143.0000', '3. low': '142.3100', '4. close': '142.8200', '5. volume': '371756'}, '2021-07-26 11:00:00': {'1. open': '142.3400', '2. high': '142.5500', '3. low': '142.0000', '4. close': '142.3800', '5. volume': '416068'}, '2021-07-26 10:00:00': {'1. open': '141.0200', '2. high': '142.9400', '3. low': '141.0200', '4. close': '142.3900', '5. volume': '465442'}, '2021-07-26 09:00:00': {'1. open': '140.4901', '2. high': '141.4600', '3. low': '140.4901', '4. close': '141.0079', '5. volume': '870'}, '2021-07-26 08:00:00': {'1. open': '141.0000', '2. high': '141.0000', '3. low': '141.0000', '4. close': '141.0000', '5. volume': '406'}, '2021-07-23 20:00:00': {'1. open': '141.3000', '2. high': '141.3000', '3. low': '141.3000', '4. close': '141.3000', '5. volume': '700'}, '2021-07-23 18:00:00': {'1. open': '141.3900', '2. high': '141.4500', '3. low': '141.3900', '4. close': '141.4500', '5. volume': '1040'}, '2021-07-23 17:00:00': {'1. open': '141.3400', '2. high': '141.4000', '3. low': '141.1000', '4. close': '141.4000', '5. volume': '50561'}, '2021-07-23 16:00:00': {'1. open': '141.3600', '2. high': '141.5750', '3. low': '141.0300', '4. close': '141.3400', '5. volume': '638837'}, '2021-07-23 15:00:00': {'1. open': '141.3100', '2. high': '141.4300', '3. low': '141.1200', '4. close': '141.3500', '5. volume': '216749'}, '2021-07-23 14:00:00': {'1. open': '141.0700', '2. high': '141.4800', '3. low': '141.0400', '4. close': '141.3100', '5. volume': '253854'}, '2021-07-23 13:00:00': {'1. open': '140.7700', '2. high': '141.1100', '3. low': '140.6200', '4. close': '141.0717', '5. volume': '264154'}, '2021-07-23 12:00:00': {'1. open': '141.0400', '2. high': '141.2600', '3. low': '140.7500', '4. close': '140.7500', '5. volume': '383793'}, '2021-07-23 11:00:00': {'1. open': '140.9200', '2. high': '141.1500', '3. low': '140.3300', '4. close': '141.0200', '5. volume': '423176'}, '2021-07-23 10:00:00': {'1. open': '141.4000', '2. high': '141.7000', '3. low': '140.6200', '4. close': '140.8901', '5. volume': '2095928'}, '2021-07-23 09:00:00': {'1. open': '141.7000', '2. high': '141.7000', '3. low': '141.0300', '4. close': '141.5000', '5. volume': '1589'}, '2021-07-22 20:00:00': {'1. open': '140.9800', '2. high': '140.9800', '3. low': '140.9800', '4. close': '140.9800', '5. volume': '845'}, '2021-07-22 19:00:00': {'1. open': '140.8700', '2. high': '140.8700', '3. low': '140.8700', '4. close': '140.8700', '5. volume': '1100'}, '2021-07-22 18:00:00': {'1. open': '140.8600', '2. high': '140.8600', '3. low': '140.8600', '4. close': '140.8600', '5. volume': '398'}, '2021-07-22 17:00:00': {'1. open': '140.7100', '2. high': '140.8200', '3. low': '140.7100', '4. close': '140.8200', '5. volume': '194763'}, '2021-07-22 16:00:00': {'1. open': '141.1000', '2. high': '141.1100', '3. low': '140.4100', '4. close': '140.7200', '5. volume': '729087'}, '2021-07-22 15:00:00': {'1. open': '141.1400', '2. high': '141.2600', '3. low': '141.0100', '4. close': '141.0800', '5. volume': '243225'}, '2021-07-22 14:00:00': {'1. open': '141.1800', '2. high': '141.3092', '3. low': '140.9900', '4. close': '141.1400', '5. volume': '233339'}, '2021-07-22 13:00:00': {'1. open': '140.9200', '2. high': '141.2900', '3. low': '140.7600', '4. close': '141.1800', '5. volume': '416866'}, '2021-07-22 12:00:00': {'1. open': '140.9100', '2. high': '141.0000', '3. low': '140.6600', '4. close': '140.9150', '5. volume': '332499'}, '2021-07-22 11:00:00': {'1. open': '140.8700', '2. high': '141.1340', '3. low': '140.7300', '4. close': '140.9000', '5. volume': '333863'}, '2021-07-22 10:00:00': {'1. open': '141.2000', '2. high': '141.8100', '3. low': '140.6400', '4. close': '140.8000', '5. volume': '419697'}, '2021-07-22 09:00:00': {'1. open': '141.1000', '2. high': '141.1000', '3. low': '141.1000', '4. close': '141.1000', '5. volume': '223'}, '2021-07-22 08:00:00': {'1. open': '141.0300', '2. high': '141.1500', '3. low': '140.9800', '4. close': '141.1500', '5. volume': '1028'}, '2021-07-21 20:00:00': {'1. open': '141.4000', '2. high': '141.4000', '3. low': '141.3100', '4. close': '141.3100', '5. volume': '1024'}, '2021-07-21 19:00:00': {'1. open': '141.3000', '2. high': '141.3000', '3. low': '141.3000', '4. close': '141.3000', '5. volume': '430'}, '2021-07-21 18:00:00': {'1. open': '141.3000', '2. high': '141.3000', '3. low': '141.3000', '4. close': '141.3000', '5. volume': '540'}, '2021-07-21 17:00:00': {'1. open': '141.3000', '2. high': '141.3000', '3. low': '141.2900', '4. close': '141.2900', '5. volume': '203487'}, '2021-07-21 16:00:00': {'1. open': '141.1300', '2. high': '141.3600', '3. low': '140.8600', '4. close': '141.3000', '5. volume': '855712'}, '2021-07-21 15:00:00': {'1. open': '141.1000', '2. high': '141.3900', '3. low': '141.0100', '4. close': '141.1300', '5. volume': '350051'}, '2021-07-21 14:00:00': {'1. open': '141.1100', '2. high': '141.2900', '3. low': '140.9200', '4. close': '141.0800', '5. volume': '404212'}, '2021-07-21 13:00:00': {'1. open': '141.0450', '2. high': '141.2800', '3. low': '140.9300', '4. close': '141.1100', '5. volume': '333896'}, '2021-07-21 12:00:00': {'1. open': '141.1350', '2. high': '141.2900', '3. low': '140.5700', '4. close': '141.0450', '5. volume': '530997'}, '2021-07-21 11:00:00': {'1. open': '141.0100', '2. high': '141.3300', '3. low': '140.5000', '4. close': '141.1350', '5. volume': '716346'}, '2021-07-21 10:00:00': {'1. open': '140.3500', '2. high': '141.3500', '3. low': '139.6500', '4. close': '141.0103', '5. volume': '756658'}}}\n"
     ]
    }
   ],
   "source": [
    "import requests\n",
    "APIKEY = '4IEI37PXMEKHFR2I'\n",
    "url = f'https://www.alphavantage.co/query?function=TIME_SERIES_INTRADAY&symbol=IBM&interval=60min&apikey={APIKEY}'\n",
    "r = requests.get(url)\n",
    "data = r.json()\n",
    "\n",
    "print(data)"
   ]
  },
  {
   "cell_type": "code",
   "execution_count": 73,
   "metadata": {
    "ExecuteTime": {
     "end_time": "2021-08-01T16:47:20.958901Z",
     "start_time": "2021-08-01T16:47:20.945869Z"
    }
   },
   "outputs": [],
   "source": [
    "import pandas as pd\n",
    "\n",
    "data_df =pd.DataFrame.from_dict(data['Time Series (60min)'],orient='index').reset_index()\n",
    "data_df.columns = ['ddate','open','high','low','close','volume']\n"
   ]
  },
  {
   "cell_type": "code",
   "execution_count": 74,
   "metadata": {
    "ExecuteTime": {
     "end_time": "2021-08-01T16:47:20.989282Z",
     "start_time": "2021-08-01T16:47:20.961264Z"
    }
   },
   "outputs": [
    {
     "name": "stdout",
     "output_type": "stream",
     "text": [
      "<class 'pandas.core.frame.DataFrame'>\n",
      "RangeIndex: 100 entries, 0 to 99\n",
      "Data columns (total 6 columns):\n",
      " #   Column  Non-Null Count  Dtype         \n",
      "---  ------  --------------  -----         \n",
      " 0   ddate   100 non-null    datetime64[ns]\n",
      " 1   open    100 non-null    float64       \n",
      " 2   high    100 non-null    float64       \n",
      " 3   low     100 non-null    float64       \n",
      " 4   close   100 non-null    float64       \n",
      " 5   volume  100 non-null    float64       \n",
      "dtypes: datetime64[ns](1), float64(5)\n",
      "memory usage: 4.8 KB\n"
     ]
    }
   ],
   "source": [
    "data_df['ddate'] = data_df['ddate'].apply(lambda x: datetime.datetime.strptime(x,'%Y-%m-%d %H:%M:%S'))\n",
    "for col in data_df.columns[1:]:\n",
    "    data_df[col] = data_df[col].apply(lambda x: float(x))\n",
    "data_df['created_time'] = datetime.datetime.now()\n",
    "data_df.info()"
   ]
  },
  {
   "cell_type": "code",
   "execution_count": 84,
   "metadata": {
    "ExecuteTime": {
     "end_time": "2021-08-01T17:26:44.691539Z",
     "start_time": "2021-08-01T17:26:44.674539Z"
    }
   },
   "outputs": [
    {
     "data": {
      "text/plain": [
       "['.ipynb_checkpoints',\n",
       " 'alphaVintage_fetch_postgre.py',\n",
       " 'alphaVintage_postgre.py',\n",
       " 'testing1.ipynb',\n",
       " '__pycache__']"
      ]
     },
     "execution_count": 84,
     "metadata": {},
     "output_type": "execute_result"
    }
   ],
   "source": [
    "import os\n",
    "os.listdir()"
   ]
  },
  {
   "cell_type": "code",
   "execution_count": 76,
   "metadata": {
    "ExecuteTime": {
     "end_time": "2021-08-01T16:47:28.911518Z",
     "start_time": "2021-08-01T16:47:28.900555Z"
    }
   },
   "outputs": [
    {
     "name": "stdout",
     "output_type": "stream",
     "text": [
      "<class 'pandas.core.frame.DataFrame'>\n",
      "RangeIndex: 100 entries, 0 to 99\n",
      "Data columns (total 7 columns):\n",
      " #   Column        Non-Null Count  Dtype         \n",
      "---  ------        --------------  -----         \n",
      " 0   ddate         100 non-null    datetime64[ns]\n",
      " 1   open          100 non-null    float64       \n",
      " 2   high          100 non-null    float64       \n",
      " 3   low           100 non-null    float64       \n",
      " 4   close         100 non-null    float64       \n",
      " 5   volume        100 non-null    float64       \n",
      " 6   created_time  100 non-null    datetime64[ns]\n",
      "dtypes: datetime64[ns](2), float64(5)\n",
      "memory usage: 5.6 KB\n"
     ]
    }
   ],
   "source": [
    "data_df.info()"
   ]
  },
  {
   "cell_type": "code",
   "execution_count": 77,
   "metadata": {
    "ExecuteTime": {
     "end_time": "2021-08-01T16:47:47.723856Z",
     "start_time": "2021-08-01T16:47:47.701829Z"
    }
   },
   "outputs": [],
   "source": [
    "import psycopg2 as pg\n",
    "try:\n",
    "    dbconnect  = pg.connect(\n",
    "        database = 'airflow',\n",
    "        user='airflow',password='airflow',\n",
    "        host='localhost', \n",
    "        # Kenapa klo 172.22.0.2 gbsa ya? padahal pgadmin bsa\n",
    "        port='5432'\n",
    "    )\n",
    "except Exception as e:\n",
    "    print(e)\n",
    "\n",
    "cursor = dbconnect.cursor()\n",
    "\n",
    "cursor.execute(\"\"\"\n",
    "    CREATE TABLE IF NOT EXISTS sandbox.stock_data_IBM (\n",
    "        ddate timestamp\n",
    "        , open float\n",
    "        , high float\n",
    "        , low float\n",
    "        , close float\n",
    "        , volume float\n",
    "        , created_time timestamp\n",
    "    )\n",
    "\n",
    "\"\"\")\n",
    "dbconnect.commit()"
   ]
  },
  {
   "cell_type": "code",
   "execution_count": 78,
   "metadata": {
    "ExecuteTime": {
     "end_time": "2021-08-01T16:47:50.957365Z",
     "start_time": "2021-08-01T16:47:50.941369Z"
    }
   },
   "outputs": [],
   "source": [
    "from sqlalchemy import create_engine\n",
    "\n",
    "\n",
    "param_dic = {'user':'airflow','password':'airflow','host':'localhost','database':'airflow'}\n",
    "connect = \"postgresql+psycopg2://%s:%s@%s:5432/%s\" % (\n",
    "    param_dic['user'],\n",
    "    param_dic['password'],\n",
    "    param_dic['host'],\n",
    "    param_dic['database']\n",
    ")\n",
    "def to_alchemy(df):\n",
    "    \"\"\"\n",
    "    Using a dummy table to test this call library\n",
    "    \"\"\"\n",
    "    engine = create_engine(connect)\n",
    "    df.to_sql(\n",
    "        'stock_data_ibm', \n",
    "        con=engine, \n",
    "        schema='sandbox',\n",
    "        index=False, \n",
    "        if_exists='append'\n",
    "    )\n",
    "    print(\"to_sql() done (sqlalchemy)\")"
   ]
  },
  {
   "cell_type": "code",
   "execution_count": 79,
   "metadata": {
    "ExecuteTime": {
     "end_time": "2021-08-01T16:47:51.318354Z",
     "start_time": "2021-08-01T16:47:51.125049Z"
    }
   },
   "outputs": [
    {
     "name": "stdout",
     "output_type": "stream",
     "text": [
      "to_sql() done (sqlalchemy)\n"
     ]
    }
   ],
   "source": [
    "to_alchemy(data_df)"
   ]
  },
  {
   "cell_type": "code",
   "execution_count": 60,
   "metadata": {
    "ExecuteTime": {
     "end_time": "2021-08-01T16:39:35.757281Z",
     "start_time": "2021-08-01T16:39:35.732459Z"
    }
   },
   "outputs": [
    {
     "data": {
      "text/html": [
       "<div>\n",
       "<style scoped>\n",
       "    .dataframe tbody tr th:only-of-type {\n",
       "        vertical-align: middle;\n",
       "    }\n",
       "\n",
       "    .dataframe tbody tr th {\n",
       "        vertical-align: top;\n",
       "    }\n",
       "\n",
       "    .dataframe thead th {\n",
       "        text-align: right;\n",
       "    }\n",
       "</style>\n",
       "<table border=\"1\" class=\"dataframe\">\n",
       "  <thead>\n",
       "    <tr style=\"text-align: right;\">\n",
       "      <th></th>\n",
       "      <th>ddate</th>\n",
       "      <th>open</th>\n",
       "      <th>high</th>\n",
       "      <th>low</th>\n",
       "      <th>close</th>\n",
       "      <th>volume</th>\n",
       "    </tr>\n",
       "  </thead>\n",
       "  <tbody>\n",
       "    <tr>\n",
       "      <th>0</th>\n",
       "      <td>2021-07-30 20:00:00</td>\n",
       "      <td>140.980</td>\n",
       "      <td>140.98</td>\n",
       "      <td>140.9800</td>\n",
       "      <td>140.9800</td>\n",
       "      <td>527.0</td>\n",
       "    </tr>\n",
       "    <tr>\n",
       "      <th>1</th>\n",
       "      <td>2021-07-30 18:00:00</td>\n",
       "      <td>141.190</td>\n",
       "      <td>141.19</td>\n",
       "      <td>141.1900</td>\n",
       "      <td>141.1900</td>\n",
       "      <td>300.0</td>\n",
       "    </tr>\n",
       "    <tr>\n",
       "      <th>2</th>\n",
       "      <td>2021-07-30 17:00:00</td>\n",
       "      <td>140.960</td>\n",
       "      <td>141.00</td>\n",
       "      <td>140.9600</td>\n",
       "      <td>141.0000</td>\n",
       "      <td>92357.0</td>\n",
       "    </tr>\n",
       "    <tr>\n",
       "      <th>3</th>\n",
       "      <td>2021-07-30 16:00:00</td>\n",
       "      <td>141.080</td>\n",
       "      <td>141.26</td>\n",
       "      <td>140.7900</td>\n",
       "      <td>140.9600</td>\n",
       "      <td>924999.0</td>\n",
       "    </tr>\n",
       "    <tr>\n",
       "      <th>4</th>\n",
       "      <td>2021-07-30 15:00:00</td>\n",
       "      <td>141.220</td>\n",
       "      <td>141.25</td>\n",
       "      <td>140.9133</td>\n",
       "      <td>141.0700</td>\n",
       "      <td>247359.0</td>\n",
       "    </tr>\n",
       "    <tr>\n",
       "      <th>...</th>\n",
       "      <td>...</td>\n",
       "      <td>...</td>\n",
       "      <td>...</td>\n",
       "      <td>...</td>\n",
       "      <td>...</td>\n",
       "      <td>...</td>\n",
       "    </tr>\n",
       "    <tr>\n",
       "      <th>95</th>\n",
       "      <td>2021-07-21 14:00:00</td>\n",
       "      <td>141.110</td>\n",
       "      <td>141.29</td>\n",
       "      <td>140.9200</td>\n",
       "      <td>141.0800</td>\n",
       "      <td>404212.0</td>\n",
       "    </tr>\n",
       "    <tr>\n",
       "      <th>96</th>\n",
       "      <td>2021-07-21 13:00:00</td>\n",
       "      <td>141.045</td>\n",
       "      <td>141.28</td>\n",
       "      <td>140.9300</td>\n",
       "      <td>141.1100</td>\n",
       "      <td>333896.0</td>\n",
       "    </tr>\n",
       "    <tr>\n",
       "      <th>97</th>\n",
       "      <td>2021-07-21 12:00:00</td>\n",
       "      <td>141.135</td>\n",
       "      <td>141.29</td>\n",
       "      <td>140.5700</td>\n",
       "      <td>141.0450</td>\n",
       "      <td>530997.0</td>\n",
       "    </tr>\n",
       "    <tr>\n",
       "      <th>98</th>\n",
       "      <td>2021-07-21 11:00:00</td>\n",
       "      <td>141.010</td>\n",
       "      <td>141.33</td>\n",
       "      <td>140.5000</td>\n",
       "      <td>141.1350</td>\n",
       "      <td>716346.0</td>\n",
       "    </tr>\n",
       "    <tr>\n",
       "      <th>99</th>\n",
       "      <td>2021-07-21 10:00:00</td>\n",
       "      <td>140.350</td>\n",
       "      <td>141.35</td>\n",
       "      <td>139.6500</td>\n",
       "      <td>141.0103</td>\n",
       "      <td>756658.0</td>\n",
       "    </tr>\n",
       "  </tbody>\n",
       "</table>\n",
       "<p>100 rows × 6 columns</p>\n",
       "</div>"
      ],
      "text/plain": [
       "                 ddate     open    high       low     close    volume\n",
       "0  2021-07-30 20:00:00  140.980  140.98  140.9800  140.9800     527.0\n",
       "1  2021-07-30 18:00:00  141.190  141.19  141.1900  141.1900     300.0\n",
       "2  2021-07-30 17:00:00  140.960  141.00  140.9600  141.0000   92357.0\n",
       "3  2021-07-30 16:00:00  141.080  141.26  140.7900  140.9600  924999.0\n",
       "4  2021-07-30 15:00:00  141.220  141.25  140.9133  141.0700  247359.0\n",
       "..                 ...      ...     ...       ...       ...       ...\n",
       "95 2021-07-21 14:00:00  141.110  141.29  140.9200  141.0800  404212.0\n",
       "96 2021-07-21 13:00:00  141.045  141.28  140.9300  141.1100  333896.0\n",
       "97 2021-07-21 12:00:00  141.135  141.29  140.5700  141.0450  530997.0\n",
       "98 2021-07-21 11:00:00  141.010  141.33  140.5000  141.1350  716346.0\n",
       "99 2021-07-21 10:00:00  140.350  141.35  139.6500  141.0103  756658.0\n",
       "\n",
       "[100 rows x 6 columns]"
      ]
     },
     "execution_count": 60,
     "metadata": {},
     "output_type": "execute_result"
    }
   ],
   "source": [
    "data_df"
   ]
  }
 ],
 "metadata": {
  "kernelspec": {
   "display_name": "Python 3",
   "language": "python",
   "name": "python3"
  },
  "language_info": {
   "codemirror_mode": {
    "name": "ipython",
    "version": 3
   },
   "file_extension": ".py",
   "mimetype": "text/x-python",
   "name": "python",
   "nbconvert_exporter": "python",
   "pygments_lexer": "ipython3",
   "version": "3.8.3"
  },
  "toc": {
   "base_numbering": 1,
   "nav_menu": {},
   "number_sections": true,
   "sideBar": true,
   "skip_h1_title": false,
   "title_cell": "Table of Contents",
   "title_sidebar": "Contents",
   "toc_cell": false,
   "toc_position": {},
   "toc_section_display": true,
   "toc_window_display": false
  }
 },
 "nbformat": 4,
 "nbformat_minor": 4
}
